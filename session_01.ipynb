{
  "nbformat": 4,
  "nbformat_minor": 0,
  "metadata": {
    "kernelspec": {
      "display_name": "Python 3",
      "language": "python",
      "name": "python3"
    },
    "language_info": {
      "codemirror_mode": {
        "name": "ipython",
        "version": 3
      },
      "file_extension": ".py",
      "mimetype": "text/x-python",
      "name": "python",
      "nbconvert_exporter": "python",
      "pygments_lexer": "ipython3",
      "version": "3.7.4"
    },
    "colab": {
      "name": "segy_import.ipynb",
      "provenance": [],
      "collapsed_sections": [],
      "toc_visible": true,
      "include_colab_link": true
    }
  },
  "cells": [
    {
      "cell_type": "markdown",
      "metadata": {
        "id": "view-in-github",
        "colab_type": "text"
      },
      "source": [
        "<a href=\"https://colab.research.google.com/github/vrgeo/ml-tutorials/blob/main/session_01.ipynb\" target=\"_parent\"><img src=\"https://colab.research.google.com/assets/colab-badge.svg\" alt=\"Open In Colab\"/></a>"
      ]
    },
    {
      "cell_type": "markdown",
      "metadata": {
        "id": "2OIj8JC89_B9"
      },
      "source": [
        "# Session 1: Seismic Volumes\n",
        "In this session, you will learn how to **import, pre-process and view seismic volumes in python**. It also introduces you to the basics of using iPython notebooks. This sessions is suitable both for those **new to python programming** and those who are **new to the field of seismic interpretation**. However, even if you are already an expert with both, you might still learn something new or interesting from this session.\n",
        "\n",
        "## Basics: the segyio library and  the .segy file format\n",
        "This iPython notebook will guide you through the session and the code examples. An iPython notebook allows you to interactlively write and execute python code within your browser.\n",
        "\n",
        "To begin, simply **run the code cell below**, by left-clicking on it and then clicking on the \"Arrow\" run button. Then wait for the spinning circle around the button to disappear, which means the cell has finished executing."
      ]
    },
    {
      "cell_type": "code",
      "metadata": {
        "id": "iFCy3QTz9_CF"
      },
      "source": [
        "import os\n",
        "import sys\n",
        "import time\n",
        "import argparse\n",
        "import numpy as np\n",
        "import matplotlib.pyplot as plt"
      ],
      "execution_count": null,
      "outputs": []
    },
    {
      "cell_type": "markdown",
      "metadata": {
        "id": "3zSeIr6J9_CH"
      },
      "source": [
        "In the cell above, we are importing some standard python libraries (os, sys, time and argparse), as well as the commonly used third party libraries **Numpy** and **Matplotlib**. Numpy is a powerful library that helps with all sort of numerical computations on matrices. Matplotlib, more specifically it's pyplot package, includes functionality for visualizing data. All these packages come pre-installed in google collab.\n",
        "\n",
        "The most commonly used data format for handling seismic volume data is **.segy**, though sometimes .sgy is used interchangeably. In order to open this binary file format in python, we are going to use a library called **segyio**. Since segyio is not included as a standard library in google collab, we have to download it using the python package installer (pip).\n",
        "\n",
        "Install segyio by **executing the cell below** and wait for it to finish, before continuing.\n"
      ]
    },
    {
      "cell_type": "code",
      "metadata": {
        "id": "msTM3Cav9_CJ"
      },
      "source": [
        "!{sys.executable} -m pip install segyio\n",
        "import segyio"
      ],
      "execution_count": null,
      "outputs": []
    },
    {
      "cell_type": "markdown",
      "metadata": {
        "id": "jmOQWDhp9_CL"
      },
      "source": [
        "Using the code in the cell below, we will download a **sample segy file from github**. It is provided by **Equinor**, the authors of the segyio library. \n",
        "\n",
        "We are going to use this sample file for the rest of this notebook, so please **run the following cell**."
      ]
    },
    {
      "cell_type": "code",
      "metadata": {
        "id": "s4_Fjd_79_CL"
      },
      "source": [
        "!wget https://github.com/equinor/segyio-notebooks/blob/master/data/basic/F3_Dip_steered_median_subvolume_IL230-430_XL475-675_T1600-1800.sgy?raw=true -O sample.sgy\n",
        "segyfile = \"sample.sgy\""
      ],
      "execution_count": null,
      "outputs": []
    },
    {
      "cell_type": "markdown",
      "metadata": {
        "id": "syis8vpb9_CM"
      },
      "source": [
        "## Opening and Accessing Seismic Data\n",
        "\n",
        "Now that we have a segy file, we can open and access it using segyio. Let's start by **defining a python function** that prints out information about the seismic volume included in our segyfile. **Run the dollowing cell now**, in order to load the function into memory. After that, we'll inspect the code in detail."
      ]
    },
    {
      "cell_type": "code",
      "metadata": {
        "id": "UvQDsylI9_CM"
      },
      "source": [
        "def print_info(segyfile):\n",
        "    with segyio.open(segyfile, mode = 'r', iline=189, xline=193, strict=True, ignore_geometry=False) as segy:\n",
        "        width = len(segy.ilines)\n",
        "        length = len(segy.xlines)\n",
        "        depth = len(segy.samples)\n",
        "        dtype = segy.format\n",
        "        print(\"Width: {}\\nLength: {}\\nDepth: {}\\nNumber format: {}\".format(width, length, depth, dtype))"
      ],
      "execution_count": null,
      "outputs": []
    },
    {
      "cell_type": "markdown",
      "metadata": {
        "id": "cG8UfYsK9_CN"
      },
      "source": [
        "First we open our sample segy file using the **segyio.open()** function. There are a number of parameters to consider:\n",
        "* The first parameter is the **path to the segy file** in our filesystem.\n",
        "* We set mode to 'r' to open the file in **read-only mode**, since we do not want to change the file's content.\n",
        "* Inside segy files, seismic data is not organized as a 3D volume, but in a list of so called **traces**. Each of these traces is a single line of voxels reaching from the top the bottom of the survey. Therefore, the depth of our volume is equal to the length of a single trace. The width and length of the volume, howerver, is not directly inferrable from the data. Fortunately, most segy files include this information in their binary file headers. With the parameters **inline and xline**, we tell segyio where it has to look. The standard location is **byte 189** for width (iline) and **byte 193** for length (xline)\n",
        "* We set **strict to True** and **ignore_geometry to False**. In combination, this tells segyio that we expect our data to be a strict rectangular cuboid.\n",
        "\n",
        "Having opened the file, we use segyio to give us some information about it. With **segy.ilines**, **segy.xlines** and **segy.samples** we query the widths, lengths and depth of our 3D volume. With **segy.format**, we query the data type in which the numbers are saved.\n",
        "\n",
        "Run the cell below now, in order to pass our segyfile to the function and execute it."
      ]
    },
    {
      "cell_type": "code",
      "metadata": {
        "id": "CViCKS5C9_CO",
        "colab": {
          "base_uri": "https://localhost:8080/"
        },
        "collapsed": true,
        "outputId": "397e43ee-144c-4e29-f5e8-5012184f7c2c"
      },
      "source": [
        "print_info(segyfile)"
      ],
      "execution_count": null,
      "outputs": [
        {
          "output_type": "stream",
          "text": [
            "Width: 201\n",
            "Length: 201\n",
            "Depth: 51\n",
            "Number format: 4-byte IEEE float\n"
          ],
          "name": "stdout"
        }
      ]
    },
    {
      "cell_type": "markdown",
      "metadata": {
        "id": "Hj7dkFx29_CQ"
      },
      "source": [
        "We now have a better idea how our 3D volume looks.\n",
        "Apparently, it has a width of 201, a length of 201 and a depth of 51. The data consists of IEEE floating point numbers.\n",
        "\n",
        "In order to learn a bit more about the data, we will **define a function** that returns tha **mimimum and maxumim value** within our volume. We shall also use this opportunity to learn about accessing the data with segyio.\n",
        "\n",
        "Load the function into memory, by **running the cell below**."
      ]
    },
    {
      "cell_type": "code",
      "metadata": {
        "id": "hFq3vYPJ9_CQ"
      },
      "source": [
        "def find_value_range(segyfile):\n",
        "    with segyio.open(segyfile, mode = 'r', iline=189, xline=193, strict=True, ignore_geometry=False) as segy:\n",
        "        gmin, gmax = float('inf'), -1*float('inf')\n",
        "        \n",
        "        for f in segy.fast:\n",
        "            min = np.min(f)\n",
        "            if min < gmin:\n",
        "                gmin = min\n",
        "            max = np.max(f)\n",
        "            if max > gmax:\n",
        "                gmax = max\n",
        "        return gmin, gmax"
      ],
      "execution_count": null,
      "outputs": []
    },
    {
      "cell_type": "markdown",
      "metadata": {
        "id": "6x085eZw9_CQ"
      },
      "source": [
        "Again, we use **segyio.open** to access our segyfile. \n",
        "We use a **standard algorithm** for finding the value range of an array,  which is to update global minimum and maxumim values while traversing the data in a loop.\n",
        "\n",
        "What is not standard is the way we access the data. Here, we used the  **\"fast\" attribute** of our opened segy file. Depending on the memory layout of the data, **one dimension is faster to traverse**. If we look at our 3D volume as a 2D array of 1D traces, then either all traces belonging to the same row are saved adjacent in memory, or all traces belonging to the same column. By calling the \"fast\" attribute on our opened segy file, we can directly access the data in the way that is fastest to traverse. \n",
        "\n",
        "Now **run the cell below** in order to execute the function on our segyfile."
      ]
    },
    {
      "cell_type": "code",
      "metadata": {
        "id": "cbWCtBEO9_CR"
      },
      "source": [
        "start=time.time()\n",
        "min_val, max_val = find_value_range(segyfile)\n",
        "finish=time.time()\n",
        "print(\"Found value range: \\nMin: {} \\nMax: {} \\nTook {:.2f} seconds\".format(min_val, max_val, (finish-start)))"
      ],
      "execution_count": null,
      "outputs": []
    },
    {
      "cell_type": "markdown",
      "metadata": {
        "id": "i50NMbH09_CS"
      },
      "source": [
        "### Interactive Exercise\n",
        "Try out the different modes of data access in segyio. \n",
        "* **Replace segy.fast with segy.slow** in the *find_value_range* function, then execute the last two cells again. Do you see a difference in computation time? \n",
        "* Now **try both segy.iline and segy.xline** instead. Which one is the fast and which one is the slow direction?\n",
        "* Now try accessing the file in trace mode using **segy.trace**. Is it faster or slower that the other modes?"
      ]
    },
    {
      "cell_type": "markdown",
      "metadata": {
        "id": "cNGIPXjm9_CS"
      },
      "source": [
        "## Histograms and Normalization\n",
        "\n",
        "In this section, we are going to take a closer look at the data in our segy file. So far, we know about the value range, but we have no idea about the distribution of values.\n",
        "\n",
        "We start by defining a **function that visualizes the histogram** of a given array in a bar plot. Making use of the **numpy.unique()** function, we can access the unique values and their corresponfing count in an array. The **pyplot.bar()** function visualizes the histogram on bar graph. Run the cell below to load the method into memory."
      ]
    },
    {
      "cell_type": "code",
      "metadata": {
        "id": "zS_pjTSY9_CS"
      },
      "source": [
        "def plot_histogram(array):\n",
        "    values, counts = np.unique(array, return_counts=True)\n",
        "    plt.figure(figsize=(10,5))\n",
        "    plt.bar(values, counts)\n",
        "    plt.show()"
      ],
      "execution_count": null,
      "outputs": []
    },
    {
      "cell_type": "markdown",
      "metadata": {
        "id": "bIydQEbj9_CS"
      },
      "source": [
        "**Execute the cell below** in order to visualize the value histogram of the data in our sample segy file."
      ]
    },
    {
      "cell_type": "code",
      "metadata": {
        "id": "Sx0jXMwz9_CS"
      },
      "source": [
        "with segyio.open(segyfile, mode = 'r', iline=189, xline=193, strict=True, ignore_geometry=False) as segy:\n",
        "    array = np.array(segy.fast)\n",
        "    plot_histogram(array)"
      ],
      "execution_count": null,
      "outputs": []
    },
    {
      "cell_type": "markdown",
      "metadata": {
        "id": "7ezBUPIF9_CT"
      },
      "source": [
        "As you can see, the data roughly resembles a Gaussian Distribution, centered around zero. \n",
        "However, due to the large value range and the large number of unique values, the pyplot bar function has trouble properly visualizing the histogram.\n",
        "\n",
        "For the purpose of visualizing and processing our data, it might be desirable to **normalize our data to a smaller value range** with a smaller number of unique values. \n",
        "\n",
        "In the cell below, we are defining a method that normalizes the data in a segy file into a set number of bin values. First, we find the value range using our own **find_value_range()** function. Then we use the function **segyio.tools.cube()**. This method will convert the data from a list of traces into a 3D array, so we'll no longer have to worry about fast and slow access modes. We initialize a new empty output array of the same shape as the original volume using the **numpy.zeros()** function. We then traverse the segy data in a nested for loop, **normalize each value** to the new value range and **save the result to the output array**.\n",
        "\n",
        "**Run the cell below** in order to load the function into memory."
      ]
    },
    {
      "cell_type": "code",
      "metadata": {
        "id": "7Az_N0F59_CZ"
      },
      "source": [
        "def normalized_array(segyfile, bins):\n",
        "    min_val, max_val = find_value_range(segyfile)\n",
        "    segy = segyio.tools.cube(segyfile)\n",
        "    width = segy.shape[0]\n",
        "    length = segy.shape[1]\n",
        "    depth = segy.shape[2]\n",
        "    output_array = np.zeros(segy.shape,dtype=np.dtype(int))   \n",
        "    bin_width = (max_val - min_val) / (bins-1)\n",
        "    for x in range(width):\n",
        "        for y in range(length):\n",
        "            for z in range(depth):\n",
        "                v = segy[x,y,z]\n",
        "                v_norm = int((v - min_val) / bin_width)\n",
        "                output_array[x,y,z]=v_norm\n",
        "    return output_array"
      ],
      "execution_count": null,
      "outputs": []
    },
    {
      "cell_type": "markdown",
      "metadata": {
        "id": "pArKV1qZ9_CZ"
      },
      "source": [
        "In image processing, the most commonly used data are **greyscale images** with a **value range of 0 to 255**. This range will allow most image processing libraries to open, display and save seismic data as images.\n",
        "\n",
        "**Run the cell below** in oder to normalize our data to range of 0 to 255 and plot the resulting histogram."
      ]
    },
    {
      "cell_type": "code",
      "metadata": {
        "id": "QaI3t5BF9_Cb"
      },
      "source": [
        "volume = normalized_array(segyfile, 256)\n",
        "plot_histogram(volume)\n"
      ],
      "execution_count": null,
      "outputs": []
    },
    {
      "cell_type": "markdown",
      "metadata": {
        "id": "-DzApfU09_Cb"
      },
      "source": [
        "Note how the resulting histogram looks much smoother and more closely resembles a Gaussian Distribution. \n",
        "\n",
        "For some use cases it might be desirable to **center the data** and perform operations such as **histogram linearization** in order to improve the value disribution which in turn **enhances contrast** in the resulting seismic images. For the rest of this session, however,  we are going to leave it here and continue with the normalized array as-is."
      ]
    },
    {
      "cell_type": "code",
      "metadata": {
        "id": "gC-jqGri9_Cb"
      },
      "source": [
        "def get_oriented_slice(volume, orientation, index):\n",
        "    try:\n",
        "        if orientation == 'inline':\n",
        "            return volume[index,:,:].T\n",
        "        elif orientation == 'crossline':\n",
        "            return volume[:,index,:].T\n",
        "        elif orientation == 'timeslice':\n",
        "            return volume[:,:,index]\n",
        "        else:\n",
        "            print(\"Error: Orientation must be one of 'inline', 'crossline, 'timeslice'\")\n",
        "            return np.array([])\n",
        "    except IndexError:\n",
        "        print(\"Index {} is out of bounds for dimension {}\".format(index, orientation))\n",
        "        return np.array([])\n",
        "\n",
        "def plot_slice(slice, colormap):\n",
        "    try:\n",
        "        plt.figure(figsize=(8,8))\n",
        "        plt.imshow(slice, cmap=colormap)\n",
        "    except:\n",
        "        print(\"{} is not a valid colormap. Try 'gray' or 'seismic' for example.\".format(colormap))"
      ],
      "execution_count": null,
      "outputs": []
    },
    {
      "cell_type": "markdown",
      "metadata": {
        "id": "6sjpG8Vc9_Cc"
      },
      "source": [
        "### Interactive Excercise\n",
        "**Execute the cell below** in order to display a single inline slice from our normalized seismic volume as a gray image, then try to play with different values for direction, index and colormap.\n",
        "* By **changing the direction** allows you to access the three dimensions of the volume.\n",
        "* By **changing the index**, you can access different slices in each dimenson. Make sure not o leave the bounds of each dimension!\n",
        "* The colormap changes in which colors the slice is displayed. **Try the 'seismic' colormap** for example. More valid entries for colormap with reference can be found found at https://matplotlib.org/stable/gallery/color/colormap_reference.html."
      ]
    },
    {
      "cell_type": "code",
      "metadata": {
        "id": "Mvgpd0209_Cc"
      },
      "source": [
        "#----Try Changing these values--------\n",
        "direction = 'timeslice'\n",
        "index = 25\n",
        "colormap = 'gray'\n",
        "#-------------------------------------\n",
        "\n",
        "seismic_slice = get_oriented_slice(volume, direction,index)\n",
        "if seismic_slice.any():\n",
        "    plot_slice(seismic_slice, colormap)"
      ],
      "execution_count": null,
      "outputs": []
    }
  ]
}